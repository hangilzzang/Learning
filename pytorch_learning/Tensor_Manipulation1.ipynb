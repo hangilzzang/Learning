{
 "cells": [
  {
   "cell_type": "code",
   "execution_count": 2,
   "metadata": {},
   "outputs": [
    {
     "name": "stderr",
     "output_type": "stream",
     "text": [
      "c:\\Users\\dodo7\\miniconda3\\envs\\lesa3\\lib\\site-packages\\tqdm\\auto.py:22: TqdmWarning: IProgress not found. Please update jupyter and ipywidgets. See https://ipywidgets.readthedocs.io/en/stable/user_install.html\n",
      "  from .autonotebook import tqdm as notebook_tqdm\n"
     ]
    }
   ],
   "source": [
    "import torch\n",
    "import numpy as np"
   ]
  },
  {
   "attachments": {},
   "cell_type": "markdown",
   "metadata": {},
   "source": [
    "브로드 캐스팅 연산이 가능한 조건"
   ]
  },
  {
   "cell_type": "code",
   "execution_count": 10,
   "metadata": {},
   "outputs": [
    {
     "name": "stdout",
     "output_type": "stream",
     "text": [
      "x: torch.Size([1])\n",
      "y: torch.Size([2])\n",
      "x+y: torch.Size([2])\n",
      "------------------------------\n",
      "x: torch.Size([2])\n",
      "y: torch.Size([4])\n",
      "error!\n",
      "------------------------------\n",
      "x: torch.Size([3, 2])\n",
      "y: torch.Size([3])\n",
      "error!\n",
      "------------------------------\n",
      "x: torch.Size([5, 1, 3, 2])\n",
      "y: torch.Size([3, 1, 1])\n",
      "x+y: torch.Size([5, 3, 3, 2])\n"
     ]
    }
   ],
   "source": [
    "# 말로 설명하기 어려운것같다 한개이하의 요소가 들어있는 차원이라면 복사를해서 높은차원에 맞춰줄수있다\n",
    "x=torch.ones(1)\n",
    "y=torch.ones(2)\n",
    "print(f'x: {x.shape}')\n",
    "print(f'y: {y.shape}')\n",
    "print(f'x+y: {(x+y).shape}')\n",
    "\n",
    "print('-'*30)\n",
    "\n",
    "x=torch.ones(2)\n",
    "y=torch.ones(4)\n",
    "print(f'x: {x.shape}')\n",
    "print(f'y: {y.shape}')\n",
    "try:\n",
    "    print(f'x+y: {(x+y).shape}')\n",
    "except:\n",
    "    print('error!')\n",
    "    \n",
    "print('-'*30)\n",
    "\n",
    "x=torch.ones(3,2)\n",
    "y=torch.ones(3)\n",
    "print(f'x: {x.shape}')\n",
    "print(f'y: {y.shape}')\n",
    "try:\n",
    "    print(f'x+y: {(x+y).shape}')\n",
    "except:\n",
    "    print('error!')\n",
    "\n",
    "print('-'*30)\n",
    "\n",
    "x=torch.ones(5,1,3,2)\n",
    "y=torch.ones(3,1,1)\n",
    "print(f'x: {x.shape}')\n",
    "print(f'y: {y.shape}')\n",
    "try:\n",
    "    print(f'x+y: {(x+y).shape}')\n",
    "except:\n",
    "    print('error!')"
   ]
  },
  {
   "attachments": {},
   "cell_type": "markdown",
   "metadata": {},
   "source": [
    "dim의 역할(판다스와 기능이 반대, shpae의 n번째 차원을 제거하겠다는말과 동일)"
   ]
  },
  {
   "cell_type": "code",
   "execution_count": 15,
   "metadata": {},
   "outputs": [],
   "source": [
    "t = torch.FloatTensor([[1, 2], [3, 4]])"
   ]
  },
  {
   "cell_type": "code",
   "execution_count": 16,
   "metadata": {},
   "outputs": [
    {
     "name": "stdout",
     "output_type": "stream",
     "text": [
      "그냥 평균을 했을경우: 2.5\n",
      "dim=0 평균: tensor([2., 3.])\n",
      "dim=1 평균: tensor([1.5000, 3.5000])\n"
     ]
    }
   ],
   "source": [
    "print(f'그냥 평균을 했을경우: {t.mean()}')\n",
    "print(f'dim=0 평균: {t.mean(dim=0)}') # 열방향으로 평균내기\n",
    "print(f'dim=1 평균: {t.mean(dim=1)}') # 행방향으로 평균내기"
   ]
  }
 ],
 "metadata": {
  "kernelspec": {
   "display_name": "lesa3",
   "language": "python",
   "name": "python3"
  },
  "language_info": {
   "codemirror_mode": {
    "name": "ipython",
    "version": 3
   },
   "file_extension": ".py",
   "mimetype": "text/x-python",
   "name": "python",
   "nbconvert_exporter": "python",
   "pygments_lexer": "ipython3",
   "version": "3.7.16"
  },
  "orig_nbformat": 4,
  "vscode": {
   "interpreter": {
    "hash": "732ee1b9a5b3ae5444d32b91de146bf4cc061ff493e0d3df05eeb3cea836baba"
   }
  }
 },
 "nbformat": 4,
 "nbformat_minor": 2
}
