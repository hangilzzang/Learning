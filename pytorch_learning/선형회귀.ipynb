{
 "cells": [
  {
   "attachments": {},
   "cell_type": "markdown",
   "metadata": {},
   "source": [
    "간단하게 집고넘어가는 선형회귀이다"
   ]
  },
  {
   "attachments": {},
   "cell_type": "markdown",
   "metadata": {},
   "source": [
    "https://wikidocs.net/53560\n",
    "1. 가설수립: feature를 받아서 y를 예측하는 과정에 있어서 그 방법론들을 말하는것같다 이번에 써볼것은 선형회귀이다\n",
    "2. 비용함수: 실제 예측값과 오차를 계산하는 함수이다 loss function 즉 손실함수라고도 많이 불리는것같다 mse를 사용하셨는데 모든 오차를 제곱한다음에 평균을 구하는 방식이다 그러면 아무리봐도 제곱평균오차가 맞는것같다....\n",
    "3. 옵티마이저 - 경사 하강법(Gradient Descent): 경사하강법은 가장 기초적인 최적화 알고리즘이라고 한다  비용함수를 미분하여 접선의 기울기기가 낮은 방향으로 w및 b(선형회귀)값을 변경하는것이다 여기서 궁금증은 기울기가 0인지점이 여러개 있을경우 어떻게 되는지인데 이것은 후에 더 자세하게 알아보자 지금은 원활한 대회참여를 위한 제대로된 파이토치 공부가 급하다(너무늦은감이 있긴하지만 이제서야 필요성을 느낀것같다)\n",
    "4. 학습률이란 경사하강법으로 최적인 w,b값을 찾는 과정에서 얼마나 큰폭으로 이동할건지를 의미 너무 크면 제대로된값을 찾을수없다"
   ]
  },
  {
   "cell_type": "code",
   "execution_count": 1,
   "metadata": {},
   "outputs": [
    {
     "name": "stderr",
     "output_type": "stream",
     "text": [
      "c:\\Users\\dodo7\\miniconda3\\envs\\lesa4\\lib\\site-packages\\tqdm\\auto.py:22: TqdmWarning: IProgress not found. Please update jupyter and ipywidgets. See https://ipywidgets.readthedocs.io/en/stable/user_install.html\n",
      "  from .autonotebook import tqdm as notebook_tqdm\n"
     ]
    }
   ],
   "source": [
    "import torch\n",
    "import torch.nn as nn\n",
    "import torch.nn.functional as F\n",
    "import torch.optim as optim"
   ]
  },
  {
   "cell_type": "code",
   "execution_count": 3,
   "metadata": {},
   "outputs": [
    {
     "data": {
      "text/plain": [
       "<torch._C.Generator at 0x2135a8bb590>"
      ]
     },
     "execution_count": 3,
     "metadata": {},
     "output_type": "execute_result"
    }
   ],
   "source": [
    "# 현재 실습하고 있는 파이썬 코드를 재실행해도 다음에도 같은 결과가 나오도록 랜덤 시드(random seed)를 줍니다.\n",
    "torch.manual_seed(2023) # 딥러닝에서 random num을 사용하는경우가 많다라고함"
   ]
  },
  {
   "attachments": {},
   "cell_type": "markdown",
   "metadata": {},
   "source": [
    "변수선언(이제 시작이다)"
   ]
  },
  {
   "cell_type": "code",
   "execution_count": 9,
   "metadata": {},
   "outputs": [],
   "source": [
    "X_train = torch.FloatTensor([[1], [2], [3]])\n",
    "y_train = torch.FloatTensor([[2], [4], [6]])"
   ]
  },
  {
   "attachments": {},
   "cell_type": "markdown",
   "metadata": {},
   "source": [
    "가중치와 편향의 초기화"
   ]
  },
  {
   "cell_type": "code",
   "execution_count": 10,
   "metadata": {},
   "outputs": [
    {
     "name": "stdout",
     "output_type": "stream",
     "text": [
      "tensor([0.], requires_grad=True)\n"
     ]
    }
   ],
   "source": [
    "# 가중치 W를 0으로 초기화하고 학습을 통해 값이 변경되는 변수임을 명시함.\n",
    "W = torch.zeros(1, requires_grad=True) \n",
    "# 가중치 W를 출력\n",
    "print(W) "
   ]
  },
  {
   "cell_type": "code",
   "execution_count": 11,
   "metadata": {},
   "outputs": [
    {
     "name": "stdout",
     "output_type": "stream",
     "text": [
      "tensor([0.], requires_grad=True)\n"
     ]
    }
   ],
   "source": [
    "b = torch.zeros(1, requires_grad=True)\n",
    "print(b)"
   ]
  },
  {
   "attachments": {},
   "cell_type": "markdown",
   "metadata": {},
   "source": [
    "지금 가설에서는 어떤값이 들어가도 가설은 0을 예측 이는 적절한 w와 b값이 아님 오차함수에 기반한 적절한 수정이 필요하다"
   ]
  },
  {
   "cell_type": "code",
   "execution_count": 12,
   "metadata": {},
   "outputs": [
    {
     "name": "stdout",
     "output_type": "stream",
     "text": [
      "tensor([[0.],\n",
      "        [0.],\n",
      "        [0.]], grad_fn=<AddBackward0>)\n"
     ]
    }
   ],
   "source": [
    "hypothesis = X_train * W + b\n",
    "print(hypothesis)"
   ]
  },
  {
   "attachments": {},
   "cell_type": "markdown",
   "metadata": {},
   "source": [
    "손실함수 선언"
   ]
  },
  {
   "cell_type": "code",
   "execution_count": 13,
   "metadata": {},
   "outputs": [
    {
     "name": "stdout",
     "output_type": "stream",
     "text": [
      "tensor(18.6667, grad_fn=<MeanBackward0>)\n"
     ]
    }
   ],
   "source": [
    "# 앞서 배운 torch.mean으로 평균을 구한다.\n",
    "cost = torch.mean((hypothesis - y_train) ** 2) \n",
    "print(cost)"
   ]
  },
  {
   "attachments": {},
   "cell_type": "markdown",
   "metadata": {},
   "source": [
    "경사하강법 구현"
   ]
  },
  {
   "cell_type": "code",
   "execution_count": 14,
   "metadata": {},
   "outputs": [],
   "source": [
    "optimizer = optim.SGD([W, b], lr=0.01)"
   ]
  },
  {
   "cell_type": "code",
   "execution_count": 15,
   "metadata": {},
   "outputs": [],
   "source": [
    "# gradient를 0으로 초기화 (cost의 최저점을 찾는 과정에서 모든 가중치를 0으로 초기화시키는것으로 이해했다)\n",
    "optimizer.zero_grad() \n",
    "# 비용 함수를 미분하여 gradient 계산\n",
    "cost.backward() \n",
    "# W와 b를 업데이트\n",
    "optimizer.step() "
   ]
  },
  {
   "cell_type": "code",
   "execution_count": 16,
   "metadata": {},
   "outputs": [
    {
     "name": "stdout",
     "output_type": "stream",
     "text": [
      "tensor([0.1867], requires_grad=True)\n",
      "tensor([0.0800], requires_grad=True)\n"
     ]
    }
   ],
   "source": [
    "print(W)\n",
    "print(b)"
   ]
  },
  {
   "attachments": {},
   "cell_type": "markdown",
   "metadata": {},
   "source": [
    "전체코드(에폭추가)"
   ]
  },
  {
   "cell_type": "code",
   "execution_count": 19,
   "metadata": {},
   "outputs": [
    {
     "name": "stdout",
     "output_type": "stream",
     "text": [
      "Epoch    0/1999 W: 0.187, b: 0.080 Cost: 18.666666\n",
      "Epoch  100/1999 W: 1.746, b: 0.578 Cost: 0.048171\n",
      "Epoch  200/1999 W: 1.800, b: 0.454 Cost: 0.029767\n",
      "Epoch  300/1999 W: 1.843, b: 0.357 Cost: 0.018394\n",
      "Epoch  400/1999 W: 1.876, b: 0.281 Cost: 0.011366\n",
      "Epoch  500/1999 W: 1.903, b: 0.221 Cost: 0.007024\n",
      "Epoch  600/1999 W: 1.924, b: 0.174 Cost: 0.004340\n",
      "Epoch  700/1999 W: 1.940, b: 0.136 Cost: 0.002682\n",
      "Epoch  800/1999 W: 1.953, b: 0.107 Cost: 0.001657\n",
      "Epoch  900/1999 W: 1.963, b: 0.084 Cost: 0.001024\n",
      "Epoch 1000/1999 W: 1.971, b: 0.066 Cost: 0.000633\n",
      "Epoch 1100/1999 W: 1.977, b: 0.052 Cost: 0.000391\n",
      "Epoch 1200/1999 W: 1.982, b: 0.041 Cost: 0.000242\n",
      "Epoch 1300/1999 W: 1.986, b: 0.032 Cost: 0.000149\n",
      "Epoch 1400/1999 W: 1.989, b: 0.025 Cost: 0.000092\n",
      "Epoch 1500/1999 W: 1.991, b: 0.020 Cost: 0.000057\n",
      "Epoch 1600/1999 W: 1.993, b: 0.016 Cost: 0.000035\n",
      "Epoch 1700/1999 W: 1.995, b: 0.012 Cost: 0.000022\n",
      "Epoch 1800/1999 W: 1.996, b: 0.010 Cost: 0.000013\n",
      "Epoch 1900/1999 W: 1.997, b: 0.008 Cost: 0.000008\n"
     ]
    }
   ],
   "source": [
    "# 데이터\n",
    "x_train = torch.FloatTensor([[1], [2], [3]])\n",
    "y_train = torch.FloatTensor([[2], [4], [6]])\n",
    "# 모델 초기화\n",
    "W = torch.zeros(1, requires_grad=True)\n",
    "b = torch.zeros(1, requires_grad=True)\n",
    "# optimizer 설정\n",
    "optimizer = optim.SGD([W, b], lr=0.01)\n",
    "\n",
    "nb_epochs = 1999 # 원하는만큼 경사 하강법을 반복\n",
    "for epoch in range(nb_epochs + 1):\n",
    "\n",
    "    # H(x) 계산\n",
    "    hypothesis = x_train * W + b\n",
    "\n",
    "    # cost 계산\n",
    "    cost = torch.mean((hypothesis - y_train) ** 2)\n",
    "\n",
    "    # cost로 H(x) 개선\n",
    "    optimizer.zero_grad() # 전루프의 gradient 값에 영향을 받지않기위해 새롭게 시작하는거라고 이해했다 어차피 가중치들이 업데이트되면 새로운 비용함수를 미분하게되는데 예전의 gradient값을 가지고가는게 의미없을것같기도하다\n",
    "    cost.backward()\n",
    "    optimizer.step()\n",
    "\n",
    "    # 100번마다 로그 출력\n",
    "    if epoch % 100 == 0:\n",
    "        print('Epoch {:4d}/{} W: {:.3f}, b: {:.3f} Cost: {:.6f}'.format(\n",
    "            epoch, nb_epochs, W.item(), b.item(), cost.item()\n",
    "        ))"
   ]
  },
  {
   "attachments": {},
   "cell_type": "markdown",
   "metadata": {},
   "source": [
    "이번에는 다중선형회귀이다 행렬곱을 사용하여 여러개의 가중치들을 하나하나 변수로 등록할필요가 없이 한번에 계산할수있다"
   ]
  },
  {
   "cell_type": "code",
   "execution_count": 32,
   "metadata": {},
   "outputs": [
    {
     "name": "stdout",
     "output_type": "stream",
     "text": [
      "Epoch    0/20 hypothesis: tensor([0., 0., 0., 0., 0.]) Cost: 29661.800781\n",
      "Epoch    1/20 hypothesis: tensor([66.7178, 80.1701, 76.1025, 86.0194, 61.1565]) Cost: 9537.694336\n",
      "Epoch    2/20 hypothesis: tensor([104.5421, 125.6208, 119.2478, 134.7862,  95.8280]) Cost: 3069.590088\n",
      "Epoch    3/20 hypothesis: tensor([125.9858, 151.3882, 143.7087, 162.4333, 115.4844]) Cost: 990.670898\n",
      "Epoch    4/20 hypothesis: tensor([138.1429, 165.9963, 157.5768, 178.1071, 126.6283]) Cost: 322.482086\n",
      "Epoch    5/20 hypothesis: tensor([145.0350, 174.2780, 165.4395, 186.9928, 132.9461]) Cost: 107.717064\n",
      "Epoch    6/20 hypothesis: tensor([148.9423, 178.9730, 169.8976, 192.0301, 136.5279]) Cost: 38.687496\n",
      "Epoch    7/20 hypothesis: tensor([151.1574, 181.6346, 172.4254, 194.8856, 138.5585]) Cost: 16.499043\n",
      "Epoch    8/20 hypothesis: tensor([152.4131, 183.1435, 173.8590, 196.5043, 139.7097]) Cost: 9.365656\n",
      "Epoch    9/20 hypothesis: tensor([153.1250, 183.9988, 174.6723, 197.4217, 140.3625]) Cost: 7.071114\n",
      "Epoch   10/20 hypothesis: tensor([153.5285, 184.4835, 175.1338, 197.9415, 140.7325]) Cost: 6.331847\n",
      "Epoch   11/20 hypothesis: tensor([153.7572, 184.7582, 175.3958, 198.2360, 140.9424]) Cost: 6.092532\n",
      "Epoch   12/20 hypothesis: tensor([153.8868, 184.9138, 175.5449, 198.4026, 141.0613]) Cost: 6.013817\n",
      "Epoch   13/20 hypothesis: tensor([153.9602, 185.0019, 175.6299, 198.4969, 141.1288]) Cost: 5.986785\n",
      "Epoch   14/20 hypothesis: tensor([154.0017, 185.0517, 175.6785, 198.5500, 141.1671]) Cost: 5.976325\n",
      "Epoch   15/20 hypothesis: tensor([154.0252, 185.0798, 175.7065, 198.5800, 141.1888]) Cost: 5.971208\n",
      "Epoch   16/20 hypothesis: tensor([154.0385, 185.0956, 175.7229, 198.5966, 141.2012]) Cost: 5.967835\n",
      "Epoch   17/20 hypothesis: tensor([154.0459, 185.1045, 175.7326, 198.6059, 141.2082]) Cost: 5.964969\n",
      "Epoch   18/20 hypothesis: tensor([154.0501, 185.1094, 175.7386, 198.6108, 141.2122]) Cost: 5.962291\n",
      "Epoch   19/20 hypothesis: tensor([154.0524, 185.1120, 175.7424, 198.6134, 141.2145]) Cost: 5.959664\n",
      "Epoch   20/20 hypothesis: tensor([154.0536, 185.1134, 175.7451, 198.6145, 141.2158]) Cost: 5.957089\n"
     ]
    }
   ],
   "source": [
    "x_train  =  torch.FloatTensor([[73,  80,  75], \n",
    "                               [93,  88,  93], \n",
    "                               [89,  91,  80], \n",
    "                               [96,  98,  100],   \n",
    "                               [73,  66,  70]])  \n",
    "y_train  =  torch.FloatTensor([[152],  [185],  [180],  [196],  [142]])\n",
    "\n",
    "# 모델 초기화\n",
    "W = torch.zeros((3, 1), requires_grad=True)\n",
    "b = torch.zeros(1, requires_grad=True)\n",
    "# optimizer 설정\n",
    "optimizer = optim.SGD([W, b], lr=1e-5)\n",
    "\n",
    "nb_epochs = 20\n",
    "for epoch in range(nb_epochs + 1):\n",
    "\n",
    "    # H(x) 계산\n",
    "    # 편향 b는 브로드 캐스팅되어 각 샘플에 더해집니다.\n",
    "    hypothesis = x_train.matmul(W) + b # 가중치와 x_train의 행렬곱\n",
    "\n",
    "    # cost 계산\n",
    "    cost = torch.mean((hypothesis - y_train) ** 2)\n",
    "\n",
    "    # cost로 H(x) 개선\n",
    "    optimizer.zero_grad()\n",
    "    cost.backward()\n",
    "    optimizer.step()\n",
    "\n",
    "    print('Epoch {:4d}/{} hypothesis: {} Cost: {:.6f}'.format(\n",
    "        epoch, nb_epochs, hypothesis.squeeze().detach(), cost.item()\n",
    "    ))"
   ]
  },
  {
   "attachments": {},
   "cell_type": "markdown",
   "metadata": {},
   "source": [
    "해당실습을 통해 알게된것\n",
    "\n",
    "먼저 예측을 하고 그것에 대한 손실을 계산해 가중치를 수정한다 정도가 내가 원래 알고있던 상식인데 \n",
    "\n",
    "아직도 안다고 말할수는 없는 수준이지만 왜 행렬이 딥러닝에 필요한지 그리고 가중치 수정은 어떤 방식으로 이루어지는지 다시한번 생각해볼수있는 기회가 되었던것같다(더 머리속이 복잡해졌다 사실상 새로 알게된건 없을지도)\n"
   ]
  },
  {
   "attachments": {},
   "cell_type": "markdown",
   "metadata": {},
   "source": [
    "nn.Module로 구현"
   ]
  },
  {
   "cell_type": "code",
   "execution_count": 33,
   "metadata": {},
   "outputs": [
    {
     "data": {
      "text/plain": [
       "<torch._C.Generator at 0x2135a8bb590>"
      ]
     },
     "execution_count": 33,
     "metadata": {},
     "output_type": "execute_result"
    }
   ],
   "source": [
    "import torch\n",
    "import torch.nn as nn\n",
    "import torch.nn.functional as F\n",
    "torch.manual_seed(2023)\n"
   ]
  },
  {
   "cell_type": "code",
   "execution_count": 34,
   "metadata": {},
   "outputs": [],
   "source": [
    "# 데이터\n",
    "x_train = torch.FloatTensor([[1], [2], [3]])\n",
    "y_train = torch.FloatTensor([[2], [4], [6]])"
   ]
  },
  {
   "cell_type": "code",
   "execution_count": 35,
   "metadata": {},
   "outputs": [],
   "source": [
    "# 모델을 선언 및 초기화. 단순 선형 회귀이므로 input_dim=1, output_dim=1.\n",
    "model = nn.Linear(1,1)"
   ]
  },
  {
   "cell_type": "code",
   "execution_count": 36,
   "metadata": {},
   "outputs": [],
   "source": [
    "# optimizer 설정. 경사 하강법 SGD를 사용하고 learning rate를 의미하는 lr은 0.01\n",
    "optimizer = torch.optim.SGD(model.parameters(), lr=0.01) "
   ]
  },
  {
   "cell_type": "code",
   "execution_count": 37,
   "metadata": {},
   "outputs": [
    {
     "name": "stdout",
     "output_type": "stream",
     "text": [
      "Epoch    0/2000 Cost: 17.833910\n",
      "Epoch  100/2000 Cost: 0.118925\n",
      "Epoch  200/2000 Cost: 0.073488\n",
      "Epoch  300/2000 Cost: 0.045411\n",
      "Epoch  400/2000 Cost: 0.028061\n",
      "Epoch  500/2000 Cost: 0.017340\n",
      "Epoch  600/2000 Cost: 0.010715\n",
      "Epoch  700/2000 Cost: 0.006621\n",
      "Epoch  800/2000 Cost: 0.004092\n",
      "Epoch  900/2000 Cost: 0.002528\n",
      "Epoch 1000/2000 Cost: 0.001562\n",
      "Epoch 1100/2000 Cost: 0.000965\n",
      "Epoch 1200/2000 Cost: 0.000597\n",
      "Epoch 1300/2000 Cost: 0.000369\n",
      "Epoch 1400/2000 Cost: 0.000228\n",
      "Epoch 1500/2000 Cost: 0.000141\n",
      "Epoch 1600/2000 Cost: 0.000087\n",
      "Epoch 1700/2000 Cost: 0.000054\n",
      "Epoch 1800/2000 Cost: 0.000033\n",
      "Epoch 1900/2000 Cost: 0.000021\n",
      "Epoch 2000/2000 Cost: 0.000013\n"
     ]
    }
   ],
   "source": [
    "# 전체 훈련 데이터에 대해 경사 하강법을 2,000회 반복\n",
    "nb_epochs = 2000\n",
    "for epoch in range(nb_epochs+1):\n",
    "\n",
    "    # H(x) 계산\n",
    "    prediction = model(x_train)\n",
    "\n",
    "    # cost 계산\n",
    "    cost = F.mse_loss(prediction, y_train) # <== 파이토치에서 제공하는 평균 제곱 오차 함수\n",
    "\n",
    "    # cost로 H(x) 개선하는 부분\n",
    "    # gradient를 0으로 초기화\n",
    "    optimizer.zero_grad()\n",
    "    # 비용 함수를 미분하여 gradient 계산\n",
    "    cost.backward() # backward 연산\n",
    "    # W와 b를 업데이트\n",
    "    optimizer.step()\n",
    "\n",
    "    if epoch % 100 == 0:\n",
    "    # 100번마다 로그 출력\n",
    "      print('Epoch {:4d}/{} Cost: {:.6f}'.format(\n",
    "          epoch, nb_epochs, cost.item()\n",
    "      ))"
   ]
  },
  {
   "cell_type": "code",
   "execution_count": 38,
   "metadata": {},
   "outputs": [
    {
     "name": "stdout",
     "output_type": "stream",
     "text": [
      "훈련 후 입력이 4일 때의 예측값 : tensor([[7.9929]], grad_fn=<AddmmBackward0>)\n"
     ]
    }
   ],
   "source": [
    "# 임의의 입력 4를 선언\n",
    "new_var =  torch.FloatTensor([[4.0]]) \n",
    "# 입력한 값 4에 대해서 예측값 y를 리턴받아서 pred_y에 저장\n",
    "pred_y = model(new_var) # forward 연산\n",
    "# y = 2x 이므로 입력이 4라면 y가 8에 가까운 값이 나와야 제대로 학습이 된 것\n",
    "print(\"훈련 후 입력이 4일 때의 예측값 :\", pred_y) "
   ]
  },
  {
   "cell_type": "code",
   "execution_count": 39,
   "metadata": {},
   "outputs": [
    {
     "name": "stdout",
     "output_type": "stream",
     "text": [
      "[Parameter containing:\n",
      "tensor([[1.9959]], requires_grad=True), Parameter containing:\n",
      "tensor([0.0094], requires_grad=True)]\n"
     ]
    }
   ],
   "source": [
    "print(list(model.parameters()))"
   ]
  },
  {
   "attachments": {},
   "cell_type": "markdown",
   "metadata": {},
   "source": [
    "1. 데이터정의\n",
    "2. 모델정의\n",
    "3. 옵티마이저 정의 # 경사하강법 방식\n",
    "4. 손실함수 정의"
   ]
  },
  {
   "attachments": {},
   "cell_type": "markdown",
   "metadata": {},
   "source": [
    "클래스로 구현하기(이부분을 배우고 싶었다)"
   ]
  },
  {
   "cell_type": "code",
   "execution_count": 41,
   "metadata": {},
   "outputs": [],
   "source": [
    "class LinearRegressionModel(nn.Module): # torch.nn.Module을 상속받는 파이썬 클래스\n",
    "    def __init__(self): #\n",
    "        super().__init__()\n",
    "        self.linear = nn.Linear(1, 1) # 단순 선형 회귀이므로 input_dim=1, output_dim=1.\n",
    "\n",
    "    def forward(self, x): #  입력 X로부터 예측된 y를 얻는 것을 forward 연산이라고 합니다.\n",
    "        return self.linear(x)"
   ]
  },
  {
   "cell_type": "code",
   "execution_count": 42,
   "metadata": {},
   "outputs": [],
   "source": [
    "model = LinearRegressionModel()"
   ]
  },
  {
   "cell_type": "code",
   "execution_count": 43,
   "metadata": {},
   "outputs": [],
   "source": [
    "# optimizer 설정. 경사 하강법 SGD를 사용하고 learning rate를 의미하는 lr은 0.01\n",
    "optimizer = torch.optim.SGD(model.parameters(), lr=0.01) "
   ]
  },
  {
   "cell_type": "code",
   "execution_count": 44,
   "metadata": {},
   "outputs": [
    {
     "name": "stdout",
     "output_type": "stream",
     "text": [
      "Epoch    0/2000 Cost: 5.866064\n",
      "Epoch  100/2000 Cost: 0.012314\n",
      "Epoch  200/2000 Cost: 0.007609\n",
      "Epoch  300/2000 Cost: 0.004702\n",
      "Epoch  400/2000 Cost: 0.002906\n",
      "Epoch  500/2000 Cost: 0.001796\n",
      "Epoch  600/2000 Cost: 0.001110\n",
      "Epoch  700/2000 Cost: 0.000686\n",
      "Epoch  800/2000 Cost: 0.000424\n",
      "Epoch  900/2000 Cost: 0.000262\n",
      "Epoch 1000/2000 Cost: 0.000162\n",
      "Epoch 1100/2000 Cost: 0.000100\n",
      "Epoch 1200/2000 Cost: 0.000062\n",
      "Epoch 1300/2000 Cost: 0.000038\n",
      "Epoch 1400/2000 Cost: 0.000024\n",
      "Epoch 1500/2000 Cost: 0.000015\n",
      "Epoch 1600/2000 Cost: 0.000009\n",
      "Epoch 1700/2000 Cost: 0.000006\n",
      "Epoch 1800/2000 Cost: 0.000003\n",
      "Epoch 1900/2000 Cost: 0.000002\n",
      "Epoch 2000/2000 Cost: 0.000001\n"
     ]
    }
   ],
   "source": [
    "# 전체 훈련 데이터에 대해 경사 하강법을 2,000회 반복\n",
    "nb_epochs = 2000\n",
    "for epoch in range(nb_epochs+1):\n",
    "\n",
    "    # H(x) 계산\n",
    "    prediction = model(x_train)\n",
    "\n",
    "    # cost 계산\n",
    "    cost = F.mse_loss(prediction, y_train) # <== 파이토치에서 제공하는 평균 제곱 오차 함수\n",
    "\n",
    "    # cost로 H(x) 개선하는 부분\n",
    "    # gradient를 0으로 초기화\n",
    "    optimizer.zero_grad()\n",
    "    # 비용 함수를 미분하여 gradient 계산\n",
    "    cost.backward() # backward 연산\n",
    "    # W와 b를 업데이트\n",
    "    optimizer.step()\n",
    "\n",
    "    if epoch % 100 == 0:\n",
    "    # 100번마다 로그 출력\n",
    "      print('Epoch {:4d}/{} Cost: {:.6f}'.format(\n",
    "          epoch, nb_epochs, cost.item()\n",
    "      ))"
   ]
  },
  {
   "attachments": {},
   "cell_type": "markdown",
   "metadata": {},
   "source": [
    "배치의 개념과 쓰는이유\n",
    "\n",
    "개념: 경사하강법이 실행되어 가중치가 업데이트 되는 데이터의 양\n",
    "\n",
    "쓰는이유: 한번에 모든데이터를 가지고 경사하강법을 실행하게되면 데이터의 양이 많아짐에 따라 시간이 많이걸리게됨\n",
    "\n",
    "신기한점: 배치크기는 보통 2의 제곱수를 사용하는데, cpu와 gpu의 메모리가 2의 배수이기때문에 송수신 효율을 높일수있다고함"
   ]
  },
  {
   "attachments": {},
   "cell_type": "markdown",
   "metadata": {},
   "source": [
    "이터레이션과 배치사이즈의 관계"
   ]
  },
  {
   "attachments": {},
   "cell_type": "markdown",
   "metadata": {},
   "source": [
    "이터레이션: 1에포크당 가중치 업데이트 횟수\n",
    "\n",
    "배치사이즈: 한번에 학습하는 데이터의 양\n",
    "\n",
    "예를들어 2000개의 데이터에서 배치사이즈가 200이라면 이터레이션은 10이다"
   ]
  },
  {
   "attachments": {},
   "cell_type": "markdown",
   "metadata": {},
   "source": [
    "dataset과 dataloader\n",
    "\n",
    "dataset 말그대로 데이터를 정의후(x와 y) dataloader에 전달 dataloder에서는 배치사이즈, shuffle 유무등을 설정할수있음"
   ]
  },
  {
   "attachments": {},
   "cell_type": "markdown",
   "metadata": {},
   "source": [
    "tensordataset을 이용한 예시"
   ]
  },
  {
   "cell_type": "code",
   "execution_count": 1,
   "metadata": {},
   "outputs": [
    {
     "name": "stderr",
     "output_type": "stream",
     "text": [
      "c:\\Users\\dodo7\\miniconda3\\envs\\lesa4\\lib\\site-packages\\tqdm\\auto.py:22: TqdmWarning: IProgress not found. Please update jupyter and ipywidgets. See https://ipywidgets.readthedocs.io/en/stable/user_install.html\n",
      "  from .autonotebook import tqdm as notebook_tqdm\n"
     ]
    }
   ],
   "source": [
    "import torch\n",
    "import torch.nn as nn\n",
    "import torch.nn.functional as F"
   ]
  },
  {
   "cell_type": "code",
   "execution_count": 2,
   "metadata": {},
   "outputs": [],
   "source": [
    "from torch.utils.data import TensorDataset # 텐서데이터셋\n",
    "from torch.utils.data import DataLoader # 데이터로더"
   ]
  },
  {
   "cell_type": "code",
   "execution_count": 11,
   "metadata": {},
   "outputs": [],
   "source": [
    "x_train  =  torch.FloatTensor([[73,  80,  75], \n",
    "                               [93,  88,  93], \n",
    "                               [89,  91,  90], \n",
    "                               [96,  98,  100],   \n",
    "                               [73,  66,  70]])  \n",
    "y_train  =  torch.FloatTensor([[152],  [185],  [180],  [196],  [142]])"
   ]
  },
  {
   "cell_type": "code",
   "execution_count": 12,
   "metadata": {},
   "outputs": [],
   "source": [
    "dataset = TensorDataset(x_train, y_train)"
   ]
  },
  {
   "cell_type": "code",
   "execution_count": 13,
   "metadata": {},
   "outputs": [],
   "source": [
    "dataloader = DataLoader(dataset, batch_size=2, shuffle=True)"
   ]
  },
  {
   "cell_type": "code",
   "execution_count": 14,
   "metadata": {},
   "outputs": [],
   "source": [
    "model = nn.Linear(3,1)\n",
    "optimizer = torch.optim.SGD(model.parameters(), lr=1e-5) "
   ]
  },
  {
   "cell_type": "code",
   "execution_count": 15,
   "metadata": {},
   "outputs": [
    {
     "name": "stdout",
     "output_type": "stream",
     "text": [
      "Epoch    0/20 Batch 1/3 Cost: 23512.417969\n",
      "Epoch    0/20 Batch 2/3 Cost: 8554.804688\n",
      "Epoch    0/20 Batch 3/3 Cost: 1487.473633\n",
      "Epoch    1/20 Batch 1/3 Cost: 743.667114\n",
      "Epoch    1/20 Batch 2/3 Cost: 315.634247\n",
      "Epoch    1/20 Batch 3/3 Cost: 135.355347\n",
      "Epoch    2/20 Batch 1/3 Cost: 23.472504\n",
      "Epoch    2/20 Batch 2/3 Cost: 2.992539\n",
      "Epoch    2/20 Batch 3/3 Cost: 4.563807\n",
      "Epoch    3/20 Batch 1/3 Cost: 1.188855\n",
      "Epoch    3/20 Batch 2/3 Cost: 0.039677\n",
      "Epoch    3/20 Batch 3/3 Cost: 2.651596\n",
      "Epoch    4/20 Batch 1/3 Cost: 1.102763\n",
      "Epoch    4/20 Batch 2/3 Cost: 0.785210\n",
      "Epoch    4/20 Batch 3/3 Cost: 0.428983\n",
      "Epoch    5/20 Batch 1/3 Cost: 0.625599\n",
      "Epoch    5/20 Batch 2/3 Cost: 0.845041\n",
      "Epoch    5/20 Batch 3/3 Cost: 1.253398\n",
      "Epoch    6/20 Batch 1/3 Cost: 1.333785\n",
      "Epoch    6/20 Batch 2/3 Cost: 0.644989\n",
      "Epoch    6/20 Batch 3/3 Cost: 0.413338\n",
      "Epoch    7/20 Batch 1/3 Cost: 0.809577\n",
      "Epoch    7/20 Batch 2/3 Cost: 0.382057\n",
      "Epoch    7/20 Batch 3/3 Cost: 2.372849\n",
      "Epoch    8/20 Batch 1/3 Cost: 1.187758\n",
      "Epoch    8/20 Batch 2/3 Cost: 1.487916\n",
      "Epoch    8/20 Batch 3/3 Cost: 0.903915\n",
      "Epoch    9/20 Batch 1/3 Cost: 0.705483\n",
      "Epoch    9/20 Batch 2/3 Cost: 0.594136\n",
      "Epoch    9/20 Batch 3/3 Cost: 2.132734\n",
      "Epoch   10/20 Batch 1/3 Cost: 0.744201\n",
      "Epoch   10/20 Batch 2/3 Cost: 1.223186\n",
      "Epoch   10/20 Batch 3/3 Cost: 1.246165\n",
      "Epoch   11/20 Batch 1/3 Cost: 0.599706\n",
      "Epoch   11/20 Batch 2/3 Cost: 1.130316\n",
      "Epoch   11/20 Batch 3/3 Cost: 0.985526\n",
      "Epoch   12/20 Batch 1/3 Cost: 1.170016\n",
      "Epoch   12/20 Batch 2/3 Cost: 0.676627\n",
      "Epoch   12/20 Batch 3/3 Cost: 0.398677\n",
      "Epoch   13/20 Batch 1/3 Cost: 0.929927\n",
      "Epoch   13/20 Batch 2/3 Cost: 0.655778\n",
      "Epoch   13/20 Batch 3/3 Cost: 1.492874\n",
      "Epoch   14/20 Batch 1/3 Cost: 0.921240\n",
      "Epoch   14/20 Batch 2/3 Cost: 1.705927\n",
      "Epoch   14/20 Batch 3/3 Cost: 0.525833\n",
      "Epoch   15/20 Batch 1/3 Cost: 0.599817\n",
      "Epoch   15/20 Batch 2/3 Cost: 0.712648\n",
      "Epoch   15/20 Batch 3/3 Cost: 2.187362\n",
      "Epoch   16/20 Batch 1/3 Cost: 1.364483\n",
      "Epoch   16/20 Batch 2/3 Cost: 0.836215\n",
      "Epoch   16/20 Batch 3/3 Cost: 0.811170\n",
      "Epoch   17/20 Batch 1/3 Cost: 0.595467\n",
      "Epoch   17/20 Batch 2/3 Cost: 1.146214\n",
      "Epoch   17/20 Batch 3/3 Cost: 0.664627\n",
      "Epoch   18/20 Batch 1/3 Cost: 0.930826\n",
      "Epoch   18/20 Batch 2/3 Cost: 0.176230\n",
      "Epoch   18/20 Batch 3/3 Cost: 2.051037\n",
      "Epoch   19/20 Batch 1/3 Cost: 1.405681\n",
      "Epoch   19/20 Batch 2/3 Cost: 0.616827\n",
      "Epoch   19/20 Batch 3/3 Cost: 1.249165\n",
      "Epoch   20/20 Batch 1/3 Cost: 0.657172\n",
      "Epoch   20/20 Batch 2/3 Cost: 1.383590\n",
      "Epoch   20/20 Batch 3/3 Cost: 1.583359\n"
     ]
    }
   ],
   "source": [
    "nb_epochs = 20\n",
    "for epoch in range(nb_epochs + 1):\n",
    "  for batch_idx, samples in enumerate(dataloader): # 배치사이즈만큼 공급\n",
    "    # print(batch_idx)\n",
    "    # print(samples)\n",
    "    x_train, y_train = samples\n",
    "    # H(x) 계산\n",
    "    prediction = model(x_train)\n",
    "\n",
    "    # cost 계산\n",
    "    cost = F.mse_loss(prediction, y_train)\n",
    "\n",
    "    # cost로 H(x) 계산\n",
    "    optimizer.zero_grad()\n",
    "    cost.backward()\n",
    "    optimizer.step()\n",
    "\n",
    "    print('Epoch {:4d}/{} Batch {}/{} Cost: {:.6f}'.format(\n",
    "        epoch, nb_epochs, batch_idx+1, len(dataloader),\n",
    "        cost.item()\n",
    "        ))"
   ]
  },
  {
   "cell_type": "code",
   "execution_count": 16,
   "metadata": {},
   "outputs": [
    {
     "name": "stdout",
     "output_type": "stream",
     "text": [
      "훈련 후 입력이 73, 80, 75일 때의 예측값 : tensor([[153.0443]], grad_fn=<AddmmBackward0>)\n"
     ]
    }
   ],
   "source": [
    "# 임의의 입력 [73, 80, 75]를 선언\n",
    "new_var =  torch.FloatTensor([[73, 80, 75]]) \n",
    "# 입력한 값 [73, 80, 75]에 대해서 예측값 y를 리턴받아서 pred_y에 저장\n",
    "pred_y = model(new_var) \n",
    "print(\"훈련 후 입력이 73, 80, 75일 때의 예측값 :\", pred_y) "
   ]
  },
  {
   "attachments": {},
   "cell_type": "markdown",
   "metadata": {},
   "source": [
    "커스텀 데이터셋"
   ]
  },
  {
   "cell_type": "code",
   "execution_count": 17,
   "metadata": {},
   "outputs": [],
   "source": [
    "import torch\n",
    "import torch.nn.functional as F\n",
    "from torch.utils.data import Dataset\n",
    "from torch.utils.data import DataLoader"
   ]
  },
  {
   "attachments": {},
   "cell_type": "markdown",
   "metadata": {},
   "source": [
    "커스텀 데이터셋을 만들때 가장 기본적인 뼈대는 다음과 같다\n",
    "  \n",
    "  \n",
    "  def __init__(self):\n",
    "\n",
    "  def __len__(self):\n",
    "\n",
    "  def __getitem__(self, idx): "
   ]
  },
  {
   "cell_type": "code",
   "execution_count": 19,
   "metadata": {},
   "outputs": [],
   "source": [
    "# Dataset 상속\n",
    "class CustomDataset(Dataset): \n",
    "  def __init__(self): # 데이터셋의 전처리를 해주는 부분\n",
    "    self.x_data = [[73, 80, 75],\n",
    "                   [93, 88, 93],\n",
    "                   [89, 91, 90],\n",
    "                   [96, 98, 100],\n",
    "                   [73, 66, 70]]\n",
    "    self.y_data = [[152], [185], [180], [196], [142]]\n",
    "\n",
    "  # 총 데이터의 개수를 리턴\n",
    "  def __len__(self): # 데이터셋의 길이. 즉, 총 샘플의 수를 적어주는 부분\n",
    "    return len(self.x_data)\n",
    "\n",
    "  # 인덱스를 입력받아 그에 맵핑되는 입출력 데이터를 파이토치의 Tensor 형태로 리턴\n",
    "  def __getitem__(self, idx): # 데이터셋에서 특정 1개의 샘플을 가져오는 함수\n",
    "    x = torch.FloatTensor(self.x_data[idx])\n",
    "    y = torch.FloatTensor(self.y_data[idx])\n",
    "    return x, y"
   ]
  },
  {
   "cell_type": "code",
   "execution_count": 20,
   "metadata": {},
   "outputs": [],
   "source": [
    "dataset = CustomDataset()\n",
    "dataloader = DataLoader(dataset, batch_size=2, shuffle=True)"
   ]
  },
  {
   "cell_type": "code",
   "execution_count": 21,
   "metadata": {},
   "outputs": [],
   "source": [
    "model = torch.nn.Linear(3,1)\n",
    "optimizer = torch.optim.SGD(model.parameters(), lr=1e-5) "
   ]
  },
  {
   "cell_type": "code",
   "execution_count": null,
   "metadata": {},
   "outputs": [],
   "source": [
    "nb_epochs = 20\n",
    "for epoch in range(nb_epochs + 1):\n",
    "  for batch_idx, samples in enumerate(dataloader):\n",
    "    # print(batch_idx)\n",
    "    # print(samples)\n",
    "    x_train, y_train = samples\n",
    "    # H(x) 계산\n",
    "    prediction = model(x_train)\n",
    "\n",
    "    # cost 계산\n",
    "    cost = F.mse_loss(prediction, y_train)\n",
    "\n",
    "    # cost로 H(x) 계산\n",
    "    optimizer.zero_grad()\n",
    "    cost.backward()\n",
    "    optimizer.step()\n",
    "\n",
    "    print('Epoch {:4d}/{} Batch {}/{} Cost: {:.6f}'.format(\n",
    "        epoch, nb_epochs, batch_idx+1, len(dataloader),\n",
    "        cost.item()\n",
    "        ))"
   ]
  }
 ],
 "metadata": {
  "kernelspec": {
   "display_name": "lesa4",
   "language": "python",
   "name": "python3"
  },
  "language_info": {
   "codemirror_mode": {
    "name": "ipython",
    "version": 3
   },
   "file_extension": ".py",
   "mimetype": "text/x-python",
   "name": "python",
   "nbconvert_exporter": "python",
   "pygments_lexer": "ipython3",
   "version": "3.7.16"
  },
  "orig_nbformat": 4,
  "vscode": {
   "interpreter": {
    "hash": "0d68ed8ea0a1c393350fa1234c971630b1febd64e890ef6951eed245e2291709"
   }
  }
 },
 "nbformat": 4,
 "nbformat_minor": 2
}
