{
 "cells": [
  {
   "attachments": {},
   "cell_type": "markdown",
   "metadata": {},
   "source": [
    "파이썬 클래스 개념에 대해서 아에 모르는것은 아니지만 다시한번 훑고 넘어가기로 한다"
   ]
  },
  {
   "attachments": {},
   "cell_type": "markdown",
   "metadata": {},
   "source": [
    "두대의 계산기를 각각 함수와 클래스 구현해본다"
   ]
  },
  {
   "cell_type": "code",
   "execution_count": 1,
   "metadata": {},
   "outputs": [
    {
     "name": "stdout",
     "output_type": "stream",
     "text": [
      "3\n",
      "7\n",
      "3\n",
      "10\n"
     ]
    }
   ],
   "source": [
    "result1 = 0\n",
    "result2 = 0\n",
    "\n",
    "def add1(num):\n",
    "    global result1\n",
    "    result1 += num\n",
    "    return result1\n",
    "\n",
    "def add2(num):\n",
    "    global result2\n",
    "    result2 += num\n",
    "    return result2\n",
    "\n",
    "print(add1(3))\n",
    "print(add1(4))\n",
    "print(add2(3))\n",
    "print(add2(7))"
   ]
  },
  {
   "cell_type": "code",
   "execution_count": 2,
   "metadata": {},
   "outputs": [
    {
     "name": "stdout",
     "output_type": "stream",
     "text": [
      "3\n",
      "7\n",
      "3\n",
      "10\n"
     ]
    }
   ],
   "source": [
    "class Calculator:\n",
    "    def __init__(self): # 객체 생성 시 호출될 때 실행되는 초기화 함수. 이를 생성자라고 한다.\n",
    "        self.result = 0\n",
    "\n",
    "    def add(self, num): # 객체 생성 후 사용할 수 있는 함수.\n",
    "        self.result += num\n",
    "        return self.result\n",
    "    \n",
    "cal1=  Calculator()\n",
    "cal2 = Calculator()\n",
    "print(cal1.add(3))\n",
    "print(cal1.add(4))\n",
    "print(cal2.add(3))\n",
    "print(cal2.add(7))\n"
   ]
  },
  {
   "attachments": {},
   "cell_type": "markdown",
   "metadata": {},
   "source": [
    "엥 이게 끝이다 이건 이미 알고있는내용이라 아직 개념만 알고있다고 생각하는 클래스 관련 추가적인 내용은 따로 찾아서 공부를 해야겠다\n",
    "\n",
    "내생각에 클래스는 global이 필요한 함수가 여러번쓰일것같다 싶으면 class를 고려해봐야되는것같다\n",
    "\n",
    "클래스안의 함수들이 비슷한 용도이기때문에 통일성을 줄수있는건 덤이다"
   ]
  },
  {
   "attachments": {},
   "cell_type": "markdown",
   "metadata": {},
   "source": [
    "상속\n",
    "\n",
    "생각해보니 얼마전에 클래스안에서 다른 클래스 함수를 불러와서 사용하는 일이 있었는데 상속을 사용했으면 더 편했을것같다\n",
    "\n",
    "바로 고치러 가야겠다"
   ]
  },
  {
   "cell_type": "code",
   "execution_count": 85,
   "metadata": {},
   "outputs": [],
   "source": [
    "class Country():\n",
    "    \"\"\"Super Class\"\"\"\n",
    "    capital = '수도'\n",
    "    \n",
    "    def __init__(self, name='김한길'):\n",
    "        self.population='인구'\n",
    "        self.name=name\n",
    "\n",
    "    def name_show(self):\n",
    "        print('국가 클래스의 메소드입니다.')\n",
    "        \n",
    "        \n",
    "\n",
    "\n",
    "class Korea(Country):\n",
    "    \"\"\"Sub Class\"\"\"\n",
    "\n",
    "    def __init__(self, name):\n",
    "        super().__init__()\n",
    "        self.name = name\n",
    "\n",
    "    def show(self):\n",
    "        print('국가 이름은 : ', self.name)\n",
    "        print('국가 이름은 : ', Country.name_show('한길'))"
   ]
  },
  {
   "cell_type": "code",
   "execution_count": 87,
   "metadata": {},
   "outputs": [
    {
     "name": "stdout",
     "output_type": "stream",
     "text": [
      "국가 이름은 :  대한민국\n",
      "국가 클래스의 메소드입니다.\n",
      "국가 이름은 :  None\n",
      "국가 클래스의 메소드입니다.\n",
      "수도\n",
      "대한민국\n"
     ]
    }
   ],
   "source": [
    "a = Korea('대한민국')\n",
    "a.show()\n",
    "a.name_show()\n",
    "print(a.capital)\n",
    "print(a.name)\n",
    "# print(Country.population) # 에러"
   ]
  },
  {
   "attachments": {},
   "cell_type": "markdown",
   "metadata": {},
   "source": [
    "변수를 등록하려면 무조건 __init__에서 혹은 다른함수 안에서 써야되는줄알았는데 아니었다 함수밖에서 self없이 등록할수없으며 정상적으로 상속된다\n",
    "\n",
    "1. 상속은 class 괄호안에 상속받을 클래스의 이름을 적어서 나타낼수있다\n",
    "2. 상속을 할때 부모클래스에서 초기화자에서 생석된 변수는 불러오지못하지만 나머지는 가져올수있다 \n",
    "3. 동일한 이름의 변수를 자식클래스에서 덮어씌워 사용할수있다\n",
    "4. 다만 super를 이용해 부모클래스의 init도 실행시킬수있고 부모클래스의 초기화자에서 생성된 변수도 모두 사용할수있다 super는 자식클래스 내부에서 부모클래스를 호출할수있는 기능이라고 보면될것같다\n",
    "5. 파이썬에서 다중상속이 가능하다 여러개를 넣으면 끝이다 sub_class(super1, super2):"
   ]
  }
 ],
 "metadata": {
  "kernelspec": {
   "display_name": "lesa4",
   "language": "python",
   "name": "python3"
  },
  "language_info": {
   "codemirror_mode": {
    "name": "ipython",
    "version": 3
   },
   "file_extension": ".py",
   "mimetype": "text/x-python",
   "name": "python",
   "nbconvert_exporter": "python",
   "pygments_lexer": "ipython3",
   "version": "3.7.16"
  },
  "orig_nbformat": 4,
  "vscode": {
   "interpreter": {
    "hash": "0d68ed8ea0a1c393350fa1234c971630b1febd64e890ef6951eed245e2291709"
   }
  }
 },
 "nbformat": 4,
 "nbformat_minor": 2
}
